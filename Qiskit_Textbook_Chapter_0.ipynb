{
  "nbformat": 4,
  "nbformat_minor": 0,
  "metadata": {
    "colab": {
      "provenance": [],
      "authorship_tag": "ABX9TyNlR6jCtLSSrsMSJ17S4piW",
      "include_colab_link": true
    },
    "kernelspec": {
      "name": "python3",
      "display_name": "Python 3"
    },
    "language_info": {
      "name": "python"
    }
  },
  "cells": [
    {
      "cell_type": "markdown",
      "metadata": {
        "id": "view-in-github",
        "colab_type": "text"
      },
      "source": [
        "<a href=\"https://colab.research.google.com/github/Aalanialani/qiskit-textbook/blob/main/Qiskit_Textbook_Chapter_0.ipynb\" target=\"_parent\"><img src=\"https://colab.research.google.com/assets/colab-badge.svg\" alt=\"Open In Colab\"/></a>"
      ]
    },
    {
      "cell_type": "code",
      "execution_count": null,
      "metadata": {
        "id": "L0hlfMdN80EI"
      },
      "outputs": [],
      "source": [
        "pip install git+https://github.com/qiskit-community/qiskit-textbook.git#subdirectory=qiskit-textbook-src"
      ]
    },
    {
      "cell_type": "code",
      "source": [
        "import qiskit.tools.jupyter\n",
        "%qiskit_version_table"
      ],
      "metadata": {
        "colab": {
          "base_uri": "https://localhost:8080/",
          "height": 337
        },
        "id": "akl8_E4J9l8j",
        "outputId": "e4480e20-f5a4-41d5-f14e-89c0031076c3"
      },
      "execution_count": 3,
      "outputs": [
        {
          "output_type": "display_data",
          "data": {
            "text/plain": [
              "<IPython.core.display.HTML object>"
            ],
            "text/html": [
              "<h3>Version Information</h3><table><tr><th>Qiskit Software</th><th>Version</th></tr><tr><td><code>qiskit-terra</code></td><td>0.22.0</td></tr><tr><td><code>qiskit-aer</code></td><td>0.11.0</td></tr><tr><td><code>qiskit-ibmq-provider</code></td><td>0.19.2</td></tr><tr><td><code>qiskit</code></td><td>0.39.0</td></tr><tr><th>System information</th></tr><tr><td>Python version</td><td>3.7.15</td></tr><tr><td>Python compiler</td><td>GCC 7.5.0</td></tr><tr><td>Python build</td><td>default, Oct 12 2022 19:14:55</td></tr><tr><td>OS</td><td>Linux</td></tr><tr><td>CPUs</td><td>1</td></tr><tr><td>Memory (Gb)</td><td>12.681224822998047</td></tr><tr><td colspan='2'>Tue Nov 01 16:12:11 2022 UTC</td></tr></table>"
            ]
          },
          "metadata": {}
        }
      ]
    },
    {
      "cell_type": "code",
      "source": [
        "1+1"
      ],
      "metadata": {
        "colab": {
          "base_uri": "https://localhost:8080/"
        },
        "id": "TCPrrfqS9vMr",
        "outputId": "b6a44d8b-41f2-4df9-e315-71f893116eb4"
      },
      "execution_count": 4,
      "outputs": [
        {
          "output_type": "execute_result",
          "data": {
            "text/plain": [
              "2"
            ]
          },
          "metadata": {},
          "execution_count": 4
        }
      ]
    },
    {
      "cell_type": "code",
      "source": [
        "a_list = [ 42, 0.5, True, [0,1], None, 'Banana' ]"
      ],
      "metadata": {
        "id": "zlcS4aM3-YvA"
      },
      "execution_count": 6,
      "outputs": []
    },
    {
      "cell_type": "code",
      "source": [
        "an_integer = 42 # Just an integer\n",
        "a_float = 0.1 # A non-integer number, up to a fixed precision\n",
        "a_boolean = True # A value that can be True or False\n",
        "a_string = '''just enclose text between two 's, or two \"s, or do what we did for this string''' # Text\n",
        "none_of_the_above = None # The absence of any actual value or variable type"
      ],
      "metadata": {
        "id": "gZMJusM1-aWu"
      },
      "execution_count": 7,
      "outputs": []
    },
    {
      "cell_type": "code",
      "source": [
        "a_list = [0,1,2,3]"
      ],
      "metadata": {
        "id": "71hMCuIV-y8S"
      },
      "execution_count": 8,
      "outputs": []
    },
    {
      "cell_type": "code",
      "source": [
        "a_list = [ 42, 0.5, True, [0,1], None, 'Banana' ]"
      ],
      "metadata": {
        "id": "PWzFrEoO-1J5"
      },
      "execution_count": 9,
      "outputs": []
    },
    {
      "cell_type": "code",
      "source": [
        "a_list[0]"
      ],
      "metadata": {
        "colab": {
          "base_uri": "https://localhost:8080/"
        },
        "id": "MiPLQAji-2-7",
        "outputId": "6257ba56-66a4-430d-c5a9-11cfb21274df"
      },
      "execution_count": 10,
      "outputs": [
        {
          "output_type": "execute_result",
          "data": {
            "text/plain": [
              "42"
            ]
          },
          "metadata": {},
          "execution_count": 10
        }
      ]
    },
    {
      "cell_type": "code",
      "source": [
        "a_tuple = ( 42, 0.5, True, [0,1], None, 'Banana' )\n",
        "a_tuple[0]"
      ],
      "metadata": {
        "colab": {
          "base_uri": "https://localhost:8080/"
        },
        "id": "mWiy8gmO-4z8",
        "outputId": "a261718f-bf76-499a-b699-e44a3d77c85a"
      },
      "execution_count": 11,
      "outputs": [
        {
          "output_type": "execute_result",
          "data": {
            "text/plain": [
              "42"
            ]
          },
          "metadata": {},
          "execution_count": 11
        }
      ]
    },
    {
      "cell_type": "code",
      "source": [
        "a_list[5] = 'apple'\n",
        "\n",
        "print(a_list)"
      ],
      "metadata": {
        "colab": {
          "base_uri": "https://localhost:8080/"
        },
        "id": "axmXYumR-6dX",
        "outputId": "a78447c1-6246-48fd-d4cd-bd0855df74ce"
      },
      "execution_count": 12,
      "outputs": [
        {
          "output_type": "stream",
          "name": "stdout",
          "text": [
            "[42, 0.5, True, [0, 1], None, 'apple']\n"
          ]
        }
      ]
    },
    {
      "cell_type": "code",
      "source": [
        "a_tuple[5] = 'apple'"
      ],
      "metadata": {
        "colab": {
          "base_uri": "https://localhost:8080/",
          "height": 166
        },
        "id": "dzgFew6k_N-n",
        "outputId": "53da7815-1900-4617-d6ff-fd8ffa06bf72"
      },
      "execution_count": 13,
      "outputs": [
        {
          "output_type": "error",
          "ename": "TypeError",
          "evalue": "ignored",
          "traceback": [
            "\u001b[0;31m---------------------------------------------------------------------------\u001b[0m",
            "\u001b[0;31mTypeError\u001b[0m                                 Traceback (most recent call last)",
            "\u001b[0;32m<ipython-input-13-42d08f1e5606>\u001b[0m in \u001b[0;36m<module>\u001b[0;34m\u001b[0m\n\u001b[0;32m----> 1\u001b[0;31m \u001b[0ma_tuple\u001b[0m\u001b[0;34m[\u001b[0m\u001b[0;36m5\u001b[0m\u001b[0;34m]\u001b[0m \u001b[0;34m=\u001b[0m \u001b[0;34m'apple'\u001b[0m\u001b[0;34m\u001b[0m\u001b[0;34m\u001b[0m\u001b[0m\n\u001b[0m",
            "\u001b[0;31mTypeError\u001b[0m: 'tuple' object does not support item assignment"
          ]
        }
      ]
    },
    {
      "cell_type": "code",
      "source": [
        "a_list.append( 3.14 )\n",
        "\n",
        "print(a_list)"
      ],
      "metadata": {
        "colab": {
          "base_uri": "https://localhost:8080/"
        },
        "id": "bsseJjR5_Pju",
        "outputId": "94e991e5-dc37-47bf-f37f-a02b34304ef2"
      },
      "execution_count": 14,
      "outputs": [
        {
          "output_type": "stream",
          "name": "stdout",
          "text": [
            "[42, 0.5, True, [0, 1], None, 'apple', 3.14]\n"
          ]
        }
      ]
    },
    {
      "cell_type": "code",
      "source": [
        "a_dict = { 1:'This is the value, for the key 1', 'This is the key for a value 1':1, False:':)', (0,1):256 }"
      ],
      "metadata": {
        "id": "Xk9v1baN_ThR"
      },
      "execution_count": 15,
      "outputs": []
    },
    {
      "cell_type": "code",
      "source": [
        "a_dict['This is the key for a value 1']"
      ],
      "metadata": {
        "colab": {
          "base_uri": "https://localhost:8080/"
        },
        "id": "QDD567Lg_iLL",
        "outputId": "b88d6f74-ccdd-4aae-be8d-36a87370c7d6"
      },
      "execution_count": 16,
      "outputs": [
        {
          "output_type": "execute_result",
          "data": {
            "text/plain": [
              "1"
            ]
          },
          "metadata": {},
          "execution_count": 16
        }
      ]
    },
    {
      "cell_type": "code",
      "source": [
        "a_dict['new key'] = 'new_value'"
      ],
      "metadata": {
        "id": "F47bRT9T_ki1"
      },
      "execution_count": 17,
      "outputs": []
    },
    {
      "cell_type": "code",
      "source": [
        "for j in range(5):\n",
        "    print(j)"
      ],
      "metadata": {
        "colab": {
          "base_uri": "https://localhost:8080/"
        },
        "id": "bqG4cXUo_nDM",
        "outputId": "bb432ca2-3094-4542-9b9f-f32b49d22eb3"
      },
      "execution_count": 18,
      "outputs": [
        {
          "output_type": "stream",
          "name": "stdout",
          "text": [
            "0\n",
            "1\n",
            "2\n",
            "3\n",
            "4\n"
          ]
        }
      ]
    },
    {
      "cell_type": "code",
      "source": [
        "for j in a_list:\n",
        "    print(j)"
      ],
      "metadata": {
        "colab": {
          "base_uri": "https://localhost:8080/"
        },
        "id": "DyRxkAua_tFv",
        "outputId": "5de2ec7f-2a08-4106-9921-dd976c3b9d2a"
      },
      "execution_count": 19,
      "outputs": [
        {
          "output_type": "stream",
          "name": "stdout",
          "text": [
            "42\n",
            "0.5\n",
            "True\n",
            "[0, 1]\n",
            "None\n",
            "apple\n",
            "3.14\n"
          ]
        }
      ]
    },
    {
      "cell_type": "code",
      "source": [
        "for key in a_dict:\n",
        "    value = a_dict[key]\n",
        "    print('key =',key)\n",
        "    print('value =',value)\n",
        "    print()"
      ],
      "metadata": {
        "colab": {
          "base_uri": "https://localhost:8080/"
        },
        "id": "QzKQZ1c1AEmy",
        "outputId": "00512f18-fda6-42cb-e8ec-1672b5dffbe3"
      },
      "execution_count": 20,
      "outputs": [
        {
          "output_type": "stream",
          "name": "stdout",
          "text": [
            "key = 1\n",
            "value = This is the value, for the key 1\n",
            "\n",
            "key = This is the key for a value 1\n",
            "value = 1\n",
            "\n",
            "key = False\n",
            "value = :)\n",
            "\n",
            "key = (0, 1)\n",
            "value = 256\n",
            "\n",
            "key = new key\n",
            "value = new_value\n",
            "\n"
          ]
        }
      ]
    },
    {
      "cell_type": "code",
      "source": [
        "if 'strawberry' in a_list:\n",
        "    print('We have a strawberry!')\n",
        "elif a_list[5]=='apple':\n",
        "    print('We have an apple!')\n",
        "else:\n",
        "    print('Not much fruit here!')"
      ],
      "metadata": {
        "colab": {
          "base_uri": "https://localhost:8080/"
        },
        "id": "hWqN_boXAbYv",
        "outputId": "43274990-c571-49ec-b5e7-4d95badf1ada"
      },
      "execution_count": 21,
      "outputs": [
        {
          "output_type": "stream",
          "name": "stdout",
          "text": [
            "We have an apple!\n"
          ]
        }
      ]
    },
    {
      "cell_type": "code",
      "source": [
        "import numpy"
      ],
      "metadata": {
        "id": "3pDshJ23Amop"
      },
      "execution_count": 22,
      "outputs": []
    },
    {
      "cell_type": "code",
      "source": [
        "numpy.sin( numpy.pi/2 )"
      ],
      "metadata": {
        "colab": {
          "base_uri": "https://localhost:8080/"
        },
        "id": "ThRZ4dVVAqcW",
        "outputId": "fa5160b7-d3a2-4ee0-c72c-3cbef717f31b"
      },
      "execution_count": 23,
      "outputs": [
        {
          "output_type": "execute_result",
          "data": {
            "text/plain": [
              "1.0"
            ]
          },
          "metadata": {},
          "execution_count": 23
        }
      ]
    },
    {
      "cell_type": "code",
      "source": [
        "import numpy as np\n",
        "\n",
        "np.sin( np.pi/2 )"
      ],
      "metadata": {
        "colab": {
          "base_uri": "https://localhost:8080/"
        },
        "id": "57IqfF9lBDVr",
        "outputId": "898552a9-6655-42a1-9a9d-4dc6c4ee5eb6"
      },
      "execution_count": 24,
      "outputs": [
        {
          "output_type": "execute_result",
          "data": {
            "text/plain": [
              "1.0"
            ]
          },
          "metadata": {},
          "execution_count": 24
        }
      ]
    },
    {
      "cell_type": "code",
      "source": [
        "from numpy import *"
      ],
      "metadata": {
        "id": "kWOql8H6CBs6"
      },
      "execution_count": 25,
      "outputs": []
    },
    {
      "cell_type": "code",
      "source": [
        "sin( pi/2 )"
      ],
      "metadata": {
        "colab": {
          "base_uri": "https://localhost:8080/"
        },
        "id": "HjPKGAYrCTDd",
        "outputId": "8a34a83b-4024-49dd-def9-9f32651d7f50"
      },
      "execution_count": 26,
      "outputs": [
        {
          "output_type": "execute_result",
          "data": {
            "text/plain": [
              "1.0"
            ]
          },
          "metadata": {},
          "execution_count": 26
        }
      ]
    },
    {
      "cell_type": "code",
      "source": [
        "def do_some_maths ( Input1, Input2 ):\n",
        "    the_answer = Input1 + Input2\n",
        "    return the_answer"
      ],
      "metadata": {
        "id": "VeA1YUANCVXz"
      },
      "execution_count": 27,
      "outputs": []
    },
    {
      "cell_type": "code",
      "source": [
        "x = do_some_maths(1,72)\n",
        "print(x)"
      ],
      "metadata": {
        "colab": {
          "base_uri": "https://localhost:8080/"
        },
        "id": "F_liHmEVCiA-",
        "outputId": "2e20756c-6068-4294-bb11-c22520e7a44a"
      },
      "execution_count": 28,
      "outputs": [
        {
          "output_type": "stream",
          "name": "stdout",
          "text": [
            "73\n"
          ]
        }
      ]
    },
    {
      "cell_type": "code",
      "source": [
        "def add_sausages ( input_list ):\n",
        "    if 'sausages' not in input_list:\n",
        "        input_list.append('sausages')"
      ],
      "metadata": {
        "id": "7p7nIBMSCjod"
      },
      "execution_count": 29,
      "outputs": []
    },
    {
      "cell_type": "code",
      "source": [
        "print('List before the function')\n",
        "print(a_list)\n",
        "\n",
        "add_sausages(a_list) # function called without an output\n",
        "\n",
        "print('\\nList after the function')\n",
        "print(a_list)"
      ],
      "metadata": {
        "colab": {
          "base_uri": "https://localhost:8080/"
        },
        "id": "SQ2C8CZyCzjh",
        "outputId": "3773f84e-d954-4f2f-aee5-116669202b5f"
      },
      "execution_count": 30,
      "outputs": [
        {
          "output_type": "stream",
          "name": "stdout",
          "text": [
            "List before the function\n",
            "[42, 0.5, True, [0, 1], None, 'apple', 3.14]\n",
            "\n",
            "List after the function\n",
            "[42, 0.5, True, [0, 1], None, 'apple', 3.14, 'sausages']\n"
          ]
        }
      ]
    },
    {
      "cell_type": "code",
      "source": [
        "import random"
      ],
      "metadata": {
        "id": "ygztVvazC1W1"
      },
      "execution_count": 31,
      "outputs": []
    },
    {
      "cell_type": "code",
      "source": [
        "for j in range(5):\n",
        "    print('* Results from sample',j+1)\n",
        "    print('\\n    Random number from 0 to 1:', random.random() )\n",
        "    print(\"\\n    Random choice from our list:\", random.choice( a_list ) )\n",
        "    print('\\n')"
      ],
      "metadata": {
        "colab": {
          "base_uri": "https://localhost:8080/"
        },
        "id": "9Kl5tN_VDK1S",
        "outputId": "9d6a60c5-8266-4be8-9919-ddbc30f51156"
      },
      "execution_count": 33,
      "outputs": [
        {
          "output_type": "stream",
          "name": "stdout",
          "text": [
            "* Results from sample 1\n",
            "\n",
            "    Random number from 0 to 1: 0.5215107211070711\n",
            "\n",
            "    Random choice from our list: sausages\n",
            "\n",
            "\n",
            "* Results from sample 2\n",
            "\n",
            "    Random number from 0 to 1: 0.291008137112975\n",
            "\n",
            "    Random choice from our list: sausages\n",
            "\n",
            "\n",
            "* Results from sample 3\n",
            "\n",
            "    Random number from 0 to 1: 0.7852457045817461\n",
            "\n",
            "    Random choice from our list: 0.5\n",
            "\n",
            "\n",
            "* Results from sample 4\n",
            "\n",
            "    Random number from 0 to 1: 0.9032575683130697\n",
            "\n",
            "    Random choice from our list: 0.5\n",
            "\n",
            "\n",
            "* Results from sample 5\n",
            "\n",
            "    Random number from 0 to 1: 0.2645683773886177\n",
            "\n",
            "    Random choice from our list: sausages\n",
            "\n",
            "\n"
          ]
        }
      ]
    },
    {
      "cell_type": "code",
      "source": [],
      "metadata": {
        "id": "qi2uJAvnDP5P"
      },
      "execution_count": null,
      "outputs": []
    }
  ]
}